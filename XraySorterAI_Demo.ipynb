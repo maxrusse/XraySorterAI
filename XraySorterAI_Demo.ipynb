{
  "nbformat": 4,
  "nbformat_minor": 0,
  "metadata": {
    "colab": {
      "provenance": [],
      "collapsed_sections": [
        "3tQE7UMUxzgq",
        "ZfOAVQ7IyIMb"
      ]
    },
    "kernelspec": {
      "name": "python3",
      "display_name": "Python 3"
    },
    "language_info": {
      "name": "python"
    }
  },
  "cells": [
    {
      "cell_type": "markdown",
      "source": [
        "#Preparing the Colab Environment:\n",
        "\n",
        "Before we dive into the main content, we need to prepare the Colab environment. This ensures that all the necessary packages and dependencies are installed. If you're curious about the details, you can expand the cell below. Otherwise, just run it to set everything up"
      ],
      "metadata": {
        "id": "3tQE7UMUxzgq"
      }
    },
    {
      "cell_type": "code",
      "execution_count": null,
      "metadata": {
        "id": "tqoOgUb-ip7b"
      },
      "outputs": [],
      "source": [
        "# Preparing the Colab environment\n",
        "\n",
        "!curl -s https://packagecloud.io/install/repositories/github/git-lfs/script.deb.sh | sudo bash\n",
        "!sudo apt-get install git-lfs\n",
        "!pip install tf-explain\n"
      ]
    },
    {
      "cell_type": "markdown",
      "source": [
        "#Cloning the Repository:\n",
        "\n",
        "In this step, we'll clone the necessary project repository from GitHub. This will ensure that we have all the relevant code, data, and files right here in the Colab environment. This repository contains the models, and additional scripts needed for this demonstration."
      ],
      "metadata": {
        "id": "ZfOAVQ7IyIMb"
      }
    },
    {
      "cell_type": "code",
      "source": [
        "!git clone https://github.com/maxrusse/XraySorterAI"
      ],
      "metadata": {
        "id": "iuSHEYy1voNE"
      },
      "execution_count": null,
      "outputs": []
    },
    {
      "cell_type": "markdown",
      "source": [
        "#Upload and Analyze a NIFTI Image:\n",
        "\n",
        "This is the interactive part of our notebook! You can upload your own NIFTI image to test the trained model's prediction capabilities.\n",
        "\n",
        "Click on the Upload button in the next cell.\n",
        "Select a NIFTI image from your computer.\n",
        "After the upload is complete, the model will automatically analyze the image and visualize the predictions for both body side and projection.\n",
        "Let's give it a try!\n",
        "\n",
        "#Important Disclaimer:\n",
        "\n",
        "🚫 Usage Rights and Privacy Concerns: Before uploading any X-ray images, please ensure that you have the appropriate rights to use them. Make sure there's no personally identifiable information on the images. Keep in mind the ethical and legal implications related to patient privacy and data protection.\n",
        "\n",
        "🚫 Not for Medical Use: The predictions and visualizations provided by this model are for demonstration and research purposes only. They are not intended for clinical or diagnostic use and should not replace professional medical advice, diagnosis, or treatment. Always seek the advice of a qualified healthcare provider with any questions you may have regarding a medical condition.\n",
        "\n",
        "Proceeding further indicates your acknowledgment and understanding of these considerations.\n"
      ],
      "metadata": {
        "id": "vHLyoRjIyzn5"
      }
    },
    {
      "cell_type": "code",
      "source": [
        "from XraySorterAI.src.analyse import visualize_prediction_side_colab, visualize_prediction_projection_colab\n",
        "\n",
        "# Mechanism for the user to upload a NIFTI image for testing\n",
        "from google.colab import files\n",
        "uploaded = files.upload()\n",
        "\n",
        "# Automatically get the uploaded filename\n",
        "uploaded_filename = list(uploaded.keys())[0]\n",
        "\n",
        "# Call the functions with the uploaded file's path\n",
        "visualize_prediction_side_colab(uploaded_filename)\n",
        "visualize_prediction_projection_colab(uploaded_filename)\n"
      ],
      "metadata": {
        "id": "a9wVQ9CKjoWZ"
      },
      "execution_count": null,
      "outputs": []
    }
  ]
}